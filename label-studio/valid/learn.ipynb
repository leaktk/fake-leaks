...
   "outputs": [],
   "source": [
    "LABEL_STUDIO_URL = 'https://app.example.com'\n",
    "LABEL_STUDIO_API_KEY = 'f05c3f9783427a18fc9382ba51197d615d85bec0'"
   ]
  },
  {
...
